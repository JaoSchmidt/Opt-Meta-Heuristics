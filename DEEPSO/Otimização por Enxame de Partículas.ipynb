{
 "cells": [
  {
   "cell_type": "code",
   "execution_count": 1,
   "metadata": {
    "colab": {
     "base_uri": "https://localhost:8080/"
    },
    "executionInfo": {
     "elapsed": 23007,
     "status": "ok",
     "timestamp": 1716826327360,
     "user": {
      "displayName": "Leonardo Veiga",
      "userId": "14445653860593930317"
     },
     "user_tz": 180
    },
    "id": "r9qzpn4w0aMI",
    "outputId": "c4c89ee0-e262-4bf5-fe38-90b7dda8c9d4"
   },
   "outputs": [],
   "source": [
    "# pip install -U pyswarms\n",
    "# pip install -U pymoo"
   ]
  },
  {
   "cell_type": "code",
   "execution_count": 2,
   "metadata": {
    "executionInfo": {
     "elapsed": 1107,
     "status": "ok",
     "timestamp": 1716826352804,
     "user": {
      "displayName": "Leonardo Veiga",
      "userId": "14445653860593930317"
     },
     "user_tz": 180
    },
    "id": "TqO6H6B8314r"
   },
   "outputs": [],
   "source": [
    "import numpy as np\n",
    "import matplotlib.pyplot as plt\n",
    "\n",
    "import pyswarms as ps\n",
    "\n",
    "from pymoo.algorithms.soo.nonconvex.pso import PSO\n",
    "from pymoo.problems.functional import FunctionalProblem\n",
    "from pymoo.optimize import minimize"
   ]
  },
  {
   "cell_type": "code",
   "execution_count": 3,
   "metadata": {
    "executionInfo": {
     "elapsed": 10,
     "status": "ok",
     "timestamp": 1716826352806,
     "user": {
      "displayName": "Leonardo Veiga",
      "userId": "14445653860593930317"
     },
     "user_tz": 180
    },
    "id": "hU5T-pIC4FiG"
   },
   "outputs": [],
   "source": [
    "# Modela a solução\n",
    "class Individuo:\n",
    "    def __init__(self, X, fit):\n",
    "        self.fit = fit\n",
    "        self.X = X\n",
    "    # Atualiza\n",
    "    def set_fit(self, f_value):\n",
    "        self.fit = f_value\n",
    "    def set_position(self, X):\n",
    "        self.X = X\n",
    "    # Acessa\n",
    "    def get_fit(self):\n",
    "        return self.fit\n",
    "    def get_position(self):\n",
    "        return self.X\n",
    "    # Imprime\n",
    "    def show(self):\n",
    "        print('X:', self.X)\n",
    "        print('Fitness:', self.fit)\n",
    "\n",
    "class Resultado:\n",
    "    def __init__(self):\n",
    "        self.X = None # Solução do problema\n",
    "        self.fit = None # Best fitness\n",
    "        self.n_eval = 0 # Número de avaliação de função\n",
    "        self.n_it = None # Número de iterações\n",
    "\n",
    "        self.Xs = [] # Melhores indivíduos de cada geração (incluindo a geração inicial)\n",
    "        self.P = None # População final\n",
    "    def show(self):\n",
    "        print('Best Solution:', self.X)\n",
    "        print('Best Solution Fitness:', self.fit)\n",
    "        print('Function Evaluation Number:', self.n_eval)\n",
    "        print('Number of iterations:', self.n_it)"
   ]
  },
  {
   "cell_type": "markdown",
   "metadata": {
    "id": "GvtSlAWa6Gef"
   },
   "source": [
    "### Entradas:"
   ]
  },
  {
   "cell_type": "code",
   "execution_count": 37,
   "metadata": {
    "executionInfo": {
     "elapsed": 7,
     "status": "ok",
     "timestamp": 1716826352806,
     "user": {
      "displayName": "Leonardo Veiga",
      "userId": "14445653860593930317"
     },
     "user_tz": 180
    },
    "id": "79bkjEGj6K1Q"
   },
   "outputs": [],
   "source": [
    "# Função objetivo:\n",
    "def f(X, a=1, b=100):\n",
    "    #x, y = X\n",
    "    #return (a - x)**2 + b*(y - x**2)**2 # Rosenbrock\n",
    "    S = 0\n",
    "    for i in range(1, 30):\n",
    "        S += (a - X[i-1])**2 + b*(X[i] - X[i-1]**2)**2\n",
    "    return S\n",
    "\n",
    "def f_ps(X, a=1, b=100):\n",
    "    #return (a - X[:, 0])**2 + b*(X[:, 1] - X[:, 0]**2)**2 Rosenbrock\n",
    "    S = 0\n",
    "    for i in range(1, 30):\n",
    "        S += (a - X[:, i-1])**2 + b*(X[:, i] - X[:, i-1]**2)**2\n",
    "    return S\n",
    "\n",
    "w = 0.5 # Parâmetro de inércia [0, 2]\n",
    "c1 = 0.2 # Parâmetro cognitivo [0, 1]\n",
    "c2 = 0.8 # Parâmetro social [0, 1]\n",
    "\n",
    "NP = 100\n",
    "dim = 30#2\n",
    "lims = [(-2.048, 2.048) for i in range(30)] #[(-2.048, 2.048), (-2.048, 2.048)] # Limites inferior e superior de cada componente\n",
    "num_it = 200 # Número de iterações\n",
    "inic_it = 0 # Iteração inicial (no gráfico da curva de convergência)\n",
    "num_exec = 30 # Número de execuções"
   ]
  },
  {
   "cell_type": "markdown",
   "metadata": {
    "id": "neYU25TQ6M0S"
   },
   "source": [
    "### Algoritmo:"
   ]
  },
  {
   "cell_type": "code",
   "execution_count": 38,
   "metadata": {
    "executionInfo": {
     "elapsed": 5,
     "status": "ok",
     "timestamp": 1716826353382,
     "user": {
      "displayName": "Leonardo Veiga",
      "userId": "14445653860593930317"
     },
     "user_tz": 180
    },
    "id": "UdSW3uiC56ih"
   },
   "outputs": [],
   "source": [
    "############## Argumentos ##############\n",
    "# f -> Função objetivo\n",
    "# lims -> Lista de duplas contendo o limite mínimo e máximo para cada variável\n",
    "# w -> Parâmetro de inércia\n",
    "# c1 Parâmetro cognitivo\n",
    "# c2 -> Parâmetro social\n",
    "# NP -> Tamanho da população\n",
    "# num_it -> Número de iterações\n",
    "########################################\n",
    "def pso(f, lims, w, c1, c2, NP=20, num_it=1000):\n",
    "    # Estrutura de dados para o resultado\n",
    "    result = Resultado()\n",
    "    result.n_it = num_it\n",
    "\n",
    "    dimensions = len(lims) # Calcula a dimensão do problema\n",
    "    P_norm = np.random.rand(NP, dimensions) # Gera população inicial aleatória em [0, 1]\n",
    "    min_b, max_b = np.asarray(lims).T # Vetores de mínimo e máximo para limitar\n",
    "    diff = np.fabs(min_b - max_b) # Tamanho do intervalo\n",
    "    P = min_b + P_norm * diff # População desnormalizada (para os intervalos corretos)\n",
    "    V = np.zeros((NP, dimensions)) # Velocidade inicial\n",
    "\n",
    "    best_P = P # Armazena o melhor indivíduo de cada partícula\n",
    "    best_fitness = np.asarray([f(ind) for ind in P]) # Gera array com as melhores avaliações da população\n",
    "    gbest_X_idx = np.argmin(best_fitness) # Índice do melhor vetor inicial\n",
    "    gbest_X = P[gbest_X_idx] # Melhor vetor inicial\n",
    "    gbest_fit = best_fitness[gbest_X_idx] # Melhor fitness inicial\n",
    "\n",
    "    # Armazenando o resultado\n",
    "    result.X = gbest_X\n",
    "    result.fit = gbest_fit\n",
    "    result.n_eval += NP\n",
    "    result.Xs.append(Individuo(gbest_X, gbest_fit))\n",
    "    result.P = P\n",
    "\n",
    "    for i in range(num_it): # Para cada iteração\n",
    "        for j in range(NP): # Para cada partícula\n",
    "            r1, r2 = np.random.uniform(0, 1), np.random.uniform(0, 1) # Gera dois números aleatórios\n",
    "            # Equação do movimento (Limitando a posição e a velocidade)\n",
    "            V[j] = np.clip(w*V[j] + c1*r1*(best_P[j] - P[j]) + c2*r2*(gbest_X - P[j]), -diff, diff)\n",
    "            Xj = np.clip(P[j] + V[j], min_b, max_b)\n",
    "            fj = f(Xj)\n",
    "\n",
    "            # Verifica se precisa atualizar informações\n",
    "            if(fj < best_fitness[j]):\n",
    "                best_P[j] = Xj\n",
    "                best_fitness[j] = fj\n",
    "                if(fj < gbest_fit):\n",
    "                    gbest_X = Xj\n",
    "                    gbest_fit = fj\n",
    "\n",
    "            P[j] = Xj\n",
    "            result.X = gbest_X\n",
    "        # Atualiza o resultado\n",
    "        result.fit = gbest_fit\n",
    "        result.n_eval += NP\n",
    "        result.Xs.append(Individuo(gbest_X, gbest_fit))\n",
    "    result.P = P\n",
    "    return result"
   ]
  },
  {
   "cell_type": "code",
   "execution_count": 39,
   "metadata": {
    "colab": {
     "base_uri": "https://localhost:8080/"
    },
    "executionInfo": {
     "elapsed": 405,
     "status": "ok",
     "timestamp": 1716826354167,
     "user": {
      "displayName": "Leonardo Veiga",
      "userId": "14445653860593930317"
     },
     "user_tz": 180
    },
    "id": "HfowQyCP9axk",
    "outputId": "7b4246d8-20ce-4ed9-e33f-492a904cb10f"
   },
   "outputs": [
    {
     "name": "stdout",
     "output_type": "stream",
     "text": [
      "Best Solution: [ 0.21569962  0.0698455  -0.1655817   0.12547761  0.09102301  0.01228404\n",
      " -0.01370206 -0.0644124  -0.04015227 -0.1433005   0.00821881  0.07651776\n",
      "  0.14803111  0.05197366 -0.04346743  0.0391095  -0.0867822  -0.00679338\n",
      "  0.02924414 -0.1623192  -0.12288268  0.14063025 -0.0266241   0.05315328\n",
      "  0.05396939 -0.15751638 -0.02446223 -0.06262278 -0.0939022   0.15192576]\n",
      "Best Solution Fitness: 54.08621273093093\n",
      "Function Evaluation Number: 20100\n",
      "Number of iterations: 200\n"
     ]
    }
   ],
   "source": [
    "alg = pso(f, lims, w, c1, c2, NP, num_it)\n",
    "\n",
    "alg.show()"
   ]
  },
  {
   "cell_type": "markdown",
   "metadata": {
    "executionInfo": {
     "elapsed": 275,
     "status": "ok",
     "timestamp": 1716227586130,
     "user": {
      "displayName": "Leonardo Veiga",
      "userId": "14445653860593930317"
     },
     "user_tz": 180
    },
    "id": "ET1pYIP3E2cB",
    "outputId": "f28bfd93-31e6-4f17-c2ba-6a4a76374579"
   },
   "source": [
    "### Curva de Convergência"
   ]
  },
  {
   "cell_type": "code",
   "execution_count": 40,
   "metadata": {
    "executionInfo": {
     "elapsed": 26798,
     "status": "ok",
     "timestamp": 1716826451677,
     "user": {
      "displayName": "Leonardo Veiga",
      "userId": "14445653860593930317"
     },
     "user_tz": 180
    },
    "id": "b88YxO8x0W3e"
   },
   "outputs": [],
   "source": [
    "exec_my_pso = []\n",
    "exec_pymoo_pso = []\n",
    "exec_pyswarm_pso = []\n",
    "\n",
    "xl, xu = np.asarray(lims).T\n",
    "problem = FunctionalProblem(dim, [f], xl=xl, xu=xu)\n",
    "\n",
    "options = {'c1': c1, 'c2': c2, 'w': w}\n",
    "\n",
    "for e in range(num_exec):\n",
    "    # Meu PSO\n",
    "    exec_my_pso.append(pso(f, lims, w, c1, c2, NP, num_it).Xs)\n",
    "\n",
    "    # PSO da Pymoo\n",
    "    algorithm = PSO(pop_size=NP, w=w, c1=c1, c2=c2)\n",
    "    algorithm.setup(problem, termination=('n_gen', num_it), verbose=False)\n",
    "    list_pymoo_it = []\n",
    "    while algorithm.has_next():\n",
    "        algorithm.next()\n",
    "        res = algorithm.result()\n",
    "        list_pymoo_it.append(Individuo(res.X, res.F[0]))\n",
    "    exec_pymoo_pso.append(list_pymoo_it)\n",
    "\n",
    "    # PSO da Pyswarms\n",
    "    optimizer = ps.single.GlobalBestPSO(n_particles=NP, dimensions=dim, options=options, bounds=(xl, xu))\n",
    "    optimizer.optimize(f_ps, iters=num_it, verbose=False)\n",
    "    exec_pyswarm_pso.append(optimizer.cost_history) # pos_history para posição"
   ]
  },
  {
   "cell_type": "code",
   "execution_count": 41,
   "metadata": {
    "executionInfo": {
     "elapsed": 7,
     "status": "ok",
     "timestamp": 1716826451678,
     "user": {
      "displayName": "Leonardo Veiga",
      "userId": "14445653860593930317"
     },
     "user_tz": 180
    },
    "id": "ebxqdbeA0W3f"
   },
   "outputs": [],
   "source": [
    "plt_my_pso = []\n",
    "plt_pymoo_pso = []\n",
    "plt_pyswarm_pso = []\n",
    "for it in range(inic_it, num_it):\n",
    "    media_my_pso = 0\n",
    "    media_pymoo_pso = 0\n",
    "    media_pyswarm_pso = 0\n",
    "    for e in range(num_exec):\n",
    "        media_my_pso += exec_my_pso[e][it+1].get_fit()\n",
    "        media_pymoo_pso += exec_pymoo_pso[e][it].get_fit()\n",
    "        media_pyswarm_pso += exec_pyswarm_pso[e][it]\n",
    "    plt_my_pso.append(media_my_pso/num_exec)\n",
    "    plt_pymoo_pso.append(media_pymoo_pso/num_exec)\n",
    "    plt_pyswarm_pso.append(media_pyswarm_pso/num_exec)"
   ]
  },
  {
   "cell_type": "code",
   "execution_count": 42,
   "metadata": {
    "colab": {
     "base_uri": "https://localhost:8080/",
     "height": 573
    },
    "executionInfo": {
     "elapsed": 6,
     "status": "ok",
     "timestamp": 1716826451678,
     "user": {
      "displayName": "Leonardo Veiga",
      "userId": "14445653860593930317"
     },
     "user_tz": 180
    },
    "id": "kJc5-73h0W3g",
    "outputId": "554110a3-38ce-452b-9ec7-72494890227b"
   },
   "outputs": [
    {
     "data": {
      "image/png": "[encoded data removed]",
      "text/plain": [
       "<Figure size 720x432 with 1 Axes>"
      ]
     },
     "metadata": {
      "needs_background": "light"
     },
     "output_type": "display_data"
    }
   ],
   "source": [
    "plt.figure(figsize=(10, 6))\n",
    "\n",
    "plt.plot(range(inic_it, num_it), plt_my_pso, linestyle=\"-\", label=\"My PSO\")\n",
    "plt.plot(range(inic_it, num_it), plt_pymoo_pso, linestyle=\"--\", label=\"Pymoo\")\n",
    "plt.plot(range(inic_it, num_it), plt_pyswarm_pso, linestyle=\"-.\", label=\"Pyswarm\")\n",
    "\n",
    "plt.yscale(\"log\")\n",
    "plt.title(\"Curva de Convergência Média\", fontsize=16)\n",
    "plt.legend()\n",
    "plt.xlabel(\"Iterações\", fontsize=14)\n",
    "plt.ylabel(\"Aptidão\", fontsize=14)\n",
    "\n",
    "plt.show()"
   ]
  },
  {
   "cell_type": "code",
   "execution_count": 43,
   "metadata": {},
   "outputs": [],
   "source": [
    "box_my_pso = []\n",
    "box_pymoo_pso = []\n",
    "box_pyswarm_pso = []\n",
    "for e in range(num_exec):\n",
    "    box_my_pso.append(exec_my_pso[e][-1].get_fit())\n",
    "    box_pymoo_pso.append(exec_pymoo_pso[e][-1].get_fit())\n",
    "    box_pyswarm_pso.append(exec_pyswarm_pso[e][-1])"
   ]
  },
  {
   "cell_type": "code",
   "execution_count": 45,
   "metadata": {},
   "outputs": [
    {
     "data": {
      "text/plain": [
       "<matplotlib.lines.Line2D at 0x2e9efde76a0>"
      ]
     },
     "execution_count": 45,
     "metadata": {},
     "output_type": "execute_result"
    },
    {
     "data": {
      "image/png": "[encoded data removed]",
      "text/plain": [
       "<Figure size 720x432 with 1 Axes>"
      ]
     },
     "metadata": {
      "needs_background": "light"
     },
     "output_type": "display_data"
    }
   ],
   "source": [
    "plt.figure(figsize=(10, 6))\n",
    "\n",
    "plt.boxplot([box_my_pso, box_pymoo_pso, box_pyswarm_pso])\n",
    "\n",
    "plt.yscale('log')\n",
    "plt.xticks([1, 2, 3], ['My PSO', 'Pymoo', 'Pyswarm'], rotation=10, fontsize=14)\n",
    "plt.xlabel(\"Algoritmo\", fontsize=14)\n",
    "plt.ylabel(\"Aptidão\", fontsize=14)\n",
    "\n",
    "plt.title(\"Boxplot\", fontsize=16)\n",
    "\n",
    "def confidence_interval(data):\n",
    "    # Primeiro e terceiro quartis\n",
    "    Q1, Q3 = np.percentile(data, [25, 75])\n",
    "    # Calcular a mediana\n",
    "    median = np.median(data)\n",
    "    return Q1, Q3\n",
    "\n",
    "ci1 = confidence_interval(box_my_pso)\n",
    "ci2 = confidence_interval(box_pymoo_pso)\n",
    "\n",
    "# Trace a linha horizontal\n",
    "overlap = max(ci1[0], ci2[0]), min(ci1[1], ci2[1])\n",
    "plt.axhline(y=np.mean(overlap), color='r', linestyle='--')"
   ]
  },
  {
   "cell_type": "markdown",
   "metadata": {
    "id": "_u34DQY80W3h"
   },
   "source": [
    "### Problema do Circuito Elétrico"
   ]
  },
  {
   "cell_type": "code",
   "execution_count": 10,
   "metadata": {
    "executionInfo": {
     "elapsed": 396,
     "status": "ok",
     "timestamp": 1716826477505,
     "user": {
      "displayName": "Leonardo Veiga",
      "userId": "14445653860593930317"
     },
     "user_tz": 180
    },
    "id": "nqV7-2er0W3h"
   },
   "outputs": [],
   "source": [
    "dim = 1\n",
    "lims = [(-5, 5)]\n",
    "xl, xu = np.asarray(lims).T\n",
    "\n",
    "def f(I):\n",
    "    # parâmetros fixos\n",
    "    U = 10\n",
    "    R = 100\n",
    "    I_s = 9.4e-12\n",
    "    v_t = 25.85e-3\n",
    "\n",
    "    # cálculo do custo\n",
    "    c = abs(U - v_t * np.log(abs(I[0] / I_s)) - R * I[0])\n",
    "    return c\n",
    "def f_ps(I):\n",
    "    # parâmetros fixos\n",
    "    U = 10\n",
    "    R = 100\n",
    "    I_s = 9.4e-12\n",
    "    v_t = 25.85e-3\n",
    "\n",
    "    # cálculo do custo\n",
    "    c = abs(U - v_t * np.log(abs(I[:, 0] / I_s)) - R * I[:, 0])\n",
    "    return c"
   ]
  },
  {
   "cell_type": "code",
   "execution_count": 11,
   "metadata": {
    "executionInfo": {
     "elapsed": 28280,
     "status": "ok",
     "timestamp": 1716826512825,
     "user": {
      "displayName": "Leonardo Veiga",
      "userId": "14445653860593930317"
     },
     "user_tz": 180
    },
    "id": "EbOHmRvB0W3i"
   },
   "outputs": [],
   "source": [
    "exec_my_pso = []\n",
    "exec_pymoo_pso = []\n",
    "exec_pyswarm_pso = []\n",
    "\n",
    "problem = FunctionalProblem(dim, [f], xl=xl, xu=xu)\n",
    "\n",
    "options = {'c1': c1, 'c2': c2, 'w': w}\n",
    "\n",
    "for e in range(num_exec):\n",
    "    # Meu PSO\n",
    "    exec_my_pso.append(pso(f, lims, w, c1, c2, NP, num_it).Xs)\n",
    "\n",
    "    # PSO da Pymoo\n",
    "    algorithm = PSO(pop_size=NP, w=w, c1=c1, c2=c2)\n",
    "    algorithm.setup(problem, termination=('n_gen', num_it), verbose=False)\n",
    "    list_pymoo_it = []\n",
    "    while algorithm.has_next():\n",
    "        algorithm.next()\n",
    "        res = algorithm.result()\n",
    "        list_pymoo_it.append(Individuo(res.X, res.F[0]))\n",
    "    exec_pymoo_pso.append(list_pymoo_it)\n",
    "\n",
    "    # PSO da Pyswarms\n",
    "    optimizer = ps.single.GlobalBestPSO(n_particles=NP, dimensions=dim, options=options, bounds=(xl, xu))\n",
    "    optimizer.optimize(f_ps, iters=num_it, verbose=False)\n",
    "    exec_pyswarm_pso.append(optimizer.cost_history) # pos_history para posição"
   ]
  },
  {
   "cell_type": "code",
   "execution_count": 12,
   "metadata": {
    "executionInfo": {
     "elapsed": 7,
     "status": "ok",
     "timestamp": 1716826512826,
     "user": {
      "displayName": "Leonardo Veiga",
      "userId": "14445653860593930317"
     },
     "user_tz": 180
    },
    "id": "gwQQGuUm0W3i"
   },
   "outputs": [],
   "source": [
    "plt_my_pso = []\n",
    "plt_pymoo_pso = []\n",
    "plt_pyswarm_pso = []\n",
    "for it in range(inic_it, num_it):\n",
    "    media_my_pso = 0\n",
    "    media_pymoo_pso = 0\n",
    "    media_pyswarm_pso = 0\n",
    "    for e in range(num_exec):\n",
    "        media_my_pso += exec_my_pso[e][it+1].get_fit()\n",
    "        media_pymoo_pso += exec_pymoo_pso[e][it].get_fit()\n",
    "        media_pyswarm_pso += exec_pyswarm_pso[e][it]\n",
    "    plt_my_pso.append(media_my_pso/num_exec)\n",
    "    plt_pymoo_pso.append(media_pymoo_pso/num_exec)\n",
    "    plt_pyswarm_pso.append(media_pyswarm_pso/num_exec)"
   ]
  },
  {
   "cell_type": "code",
   "execution_count": 13,
   "metadata": {
    "colab": {
     "base_uri": "https://localhost:8080/",
     "height": 573
    },
    "executionInfo": {
     "elapsed": 806,
     "status": "ok",
     "timestamp": 1716826513629,
     "user": {
      "displayName": "Leonardo Veiga",
      "userId": "14445653860593930317"
     },
     "user_tz": 180
    },
    "id": "2tljdYya0W3j",
    "outputId": "e5b5e835-9014-4c4c-9f11-72f539d29646"
   },
   "outputs": [
    {
     "data": {
      "image/png": "[encoded data removed]",
      "text/plain": [
       "<Figure size 720x432 with 1 Axes>"
      ]
     },
     "metadata": {
      "needs_background": "light"
     },
     "output_type": "display_data"
    }
   ],
   "source": [
    "plt.figure(figsize=(10, 6))\n",
    "\n",
    "plt.plot(range(inic_it, num_it), plt_my_pso, linestyle=\"-\", label=\"My PSO\")\n",
    "plt.plot(range(inic_it, num_it), plt_pymoo_pso, linestyle=\"--\", label=\"Pymoo\")\n",
    "plt.plot(range(inic_it, num_it), plt_pyswarm_pso, linestyle=\"-.\", label=\"Pyswarm\")\n",
    "\n",
    "plt.yscale(\"log\")\n",
    "plt.title(\"Curva de Convergência Média\", fontsize=16)\n",
    "plt.legend()\n",
    "plt.xlabel(\"Iterações\", fontsize=14)\n",
    "plt.ylabel(\"Aptidão\", fontsize=14)\n",
    "\n",
    "plt.show()"
   ]
  },
  {
   "cell_type": "markdown",
   "metadata": {
    "id": "jQyPv1rH2cjQ"
   },
   "source": [
    "### Gráfico de Caixa (Boxplot)"
   ]
  },
  {
   "cell_type": "code",
   "execution_count": 14,
   "metadata": {
    "executionInfo": {
     "elapsed": 5,
     "status": "ok",
     "timestamp": 1716827632396,
     "user": {
      "displayName": "Leonardo Veiga",
      "userId": "14445653860593930317"
     },
     "user_tz": 180
    },
    "id": "PZwxQCyY0W3j"
   },
   "outputs": [],
   "source": [
    "box_my_pso = []\n",
    "box_pymoo_pso = []\n",
    "box_pyswarm_pso = []\n",
    "for e in range(num_exec):\n",
    "    box_my_pso.append(exec_my_pso[e][-1].get_fit())\n",
    "    box_pymoo_pso.append(exec_pymoo_pso[e][-1].get_fit())\n",
    "    box_pyswarm_pso.append(exec_pyswarm_pso[e][-1])"
   ]
  },
  {
   "cell_type": "code",
   "execution_count": 15,
   "metadata": {
    "colab": {
     "base_uri": "https://localhost:8080/",
     "height": 608
    },
    "executionInfo": {
     "elapsed": 1178,
     "status": "ok",
     "timestamp": 1716831509487,
     "user": {
      "displayName": "Leonardo Veiga",
      "userId": "14445653860593930317"
     },
     "user_tz": 180
    },
    "id": "X5QXCg7z5kix",
    "outputId": "c6462870-4343-43ef-ec43-be4853f58716"
   },
   "outputs": [
    {
     "data": {
      "text/plain": [
       "<matplotlib.lines.Line2D at 0x2e9eda92a90>"
      ]
     },
     "execution_count": 15,
     "metadata": {},
     "output_type": "execute_result"
    },
    {
     "data": {
      "image/png": "[encoded data removed]",
      "text/plain": [
       "<Figure size 720x432 with 1 Axes>"
      ]
     },
     "metadata": {
      "needs_background": "light"
     },
     "output_type": "display_data"
    }
   ],
   "source": [
    "plt.figure(figsize=(10, 6))\n",
    "\n",
    "plt.boxplot([box_my_pso, box_pymoo_pso, box_pyswarm_pso])\n",
    "\n",
    "plt.yscale('log')\n",
    "plt.xticks([1, 2, 3], ['My PSO', 'Pymoo', 'Pyswarm'], rotation=10, fontsize=14)\n",
    "plt.xlabel(\"Algoritmo\", fontsize=14)\n",
    "plt.ylabel(\"Aptidão\", fontsize=14)\n",
    "\n",
    "plt.title(\"Boxplot\", fontsize=16)\n",
    "\n",
    "def confidence_interval(data):\n",
    "    # Primeiro e terceiro quartis\n",
    "    Q1, Q3 = np.percentile(data, [25, 75])\n",
    "    # Calcular a mediana\n",
    "    median = np.median(data)\n",
    "    return Q1, Q3\n",
    "\n",
    "ci1 = confidence_interval(box_my_pso)\n",
    "ci2 = confidence_interval(box_pyswarm_pso)\n",
    "\n",
    "# Trace a linha horizontal\n",
    "overlap = max(ci1[0], ci2[0]), min(ci1[1], ci2[1])\n",
    "plt.axhline(y=np.mean(overlap), color='r', linestyle='--')"
   ]
  }
 ],
 "metadata": {
  "colab": {
   "provenance": []
  },
  "kernelspec": {
   "display_name": "Python 3 (ipykernel)",
   "language": "python",
   "name": "python3"
  },
  "language_info": {
   "codemirror_mode": {
    "name": "ipython",
    "version": 3
   },
   "file_extension": ".py",
   "mimetype": "text/x-python",
   "name": "python",
   "nbconvert_exporter": "python",
   "pygments_lexer": "ipython3",
   "version": "3.11.6"
  }
 },
 "nbformat": 4,
 "nbformat_minor": 4
}
